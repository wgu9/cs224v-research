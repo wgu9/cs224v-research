{
 "cells": [
  {
   "cell_type": "code",
   "execution_count": 2,
   "id": "d4986919",
   "metadata": {},
   "outputs": [
    {
     "name": "stdout",
     "output_type": "stream",
     "text": [
      "Success!\n",
      "Response: Hello!\n",
      "Tokens used: 15\n"
     ]
    }
   ],
   "source": [
    "import requests\n",
    "import json,os\n",
    "from dotenv import load_dotenv\n",
    "\n",
    "load_dotenv(\".env\")\n",
    "\n",
    "API_KEY = os.getenv(\"LLM_API_KEY\")\n",
    "BASE_URL = os.getenv(\"LLM_API_ENDPOINT\")\n",
    "\n",
    "response = requests.post(\n",
    "    f\"{BASE_URL}/chat/completions\",\n",
    "    headers={\n",
    "        \"Authorization\": f\"Bearer {API_KEY}\",\n",
    "        \"Content-Type\": \"application/json\"\n",
    "    },\n",
    "    json={\n",
    "        \"model\": \"gpt-4.1\",\n",
    "        \"messages\": [\n",
    "            {\"role\": \"user\", \"content\": \"Say hi in one word\"}\n",
    "        ],\n",
    "        \"max_tokens\": 5\n",
    "    }\n",
    ")\n",
    "\n",
    "if response.status_code == 200:\n",
    "    result = response.json()\n",
    "    print(\"Success!\")\n",
    "    print(f\"Response: {result['choices'][0]['message']['content']}\")\n",
    "    print(f\"Tokens used: {result.get('usage', {}).get('total_tokens', 'N/A')}\")\n",
    "else:\n",
    "    print(f\"Error {response.status_code}: {response.text}\")"
   ]
  },
  {
   "cell_type": "code",
   "execution_count": null,
   "id": "e4c6e7de",
   "metadata": {},
   "outputs": [],
   "source": []
  }
 ],
 "metadata": {
  "kernelspec": {
   "display_name": ".venv",
   "language": "python",
   "name": "python3"
  },
  "language_info": {
   "codemirror_mode": {
    "name": "ipython",
    "version": 3
   },
   "file_extension": ".py",
   "mimetype": "text/x-python",
   "name": "python",
   "nbconvert_exporter": "python",
   "pygments_lexer": "ipython3",
   "version": "3.13.7"
  }
 },
 "nbformat": 4,
 "nbformat_minor": 5
}
